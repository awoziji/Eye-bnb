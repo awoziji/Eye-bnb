{
 "cells": [
  {
   "cell_type": "code",
   "execution_count": 11,
   "metadata": {},
   "outputs": [],
   "source": [
    "from PIL import Image\n",
    "from io import BytesIO"
   ]
  },
  {
   "cell_type": "code",
   "execution_count": 20,
   "metadata": {},
   "outputs": [],
   "source": [
    "import requests\n",
    "import boto3\n",
    "\n",
    "\n",
    "bucket_name = \"chen-gal-test\"\n",
    "s3 = boto3.client(\"s3\")\n",
    "url = 'https://a0.muscache.com/4ea/air/v2//pictures/e8462648-be49-48f8-a394-70fb9c66f384.jpg?t=r:w2500-h1500-sfit,e:fjpg-c85'\n",
    "r = requests.get(url, allow_redirects=True)\n",
    "# open('shanghai.jpg', 'wb').write(r.content)\n",
    "\n",
    "image = Image.open(BytesIO(r.content))\n",
    "\n",
    "image_resized = image.resize((image.size[0]//2,image.size[1]//2))\n",
    "\n",
    "filename = 'shanghai'\n",
    "image_resized.save('shanghai.jpg')\n",
    "# s3.put_object(Body=image_resized, Bucket=bucket_name, Key=filename)"
   ]
  },
  {
   "cell_type": "markdown",
   "metadata": {},
   "source": [
    "# Load in json file"
   ]
  },
  {
   "cell_type": "code",
   "execution_count": 10,
   "metadata": {},
   "outputs": [
    {
     "ename": "SyntaxError",
     "evalue": "invalid syntax (<ipython-input-10-455680ca2399>, line 1)",
     "output_type": "error",
     "traceback": [
      "\u001b[0;36m  File \u001b[0;32m\"<ipython-input-10-455680ca2399>\"\u001b[0;36m, line \u001b[0;32m1\u001b[0m\n\u001b[0;31m    def\u001b[0m\n\u001b[0m        ^\u001b[0m\n\u001b[0;31mSyntaxError\u001b[0m\u001b[0;31m:\u001b[0m invalid syntax\n"
     ]
    }
   ],
   "source": [
    "def "
   ]
  },
  {
   "cell_type": "code",
   "execution_count": null,
   "metadata": {},
   "outputs": [],
   "source": [
    "bucket_name = \"chen-gal-test\"\n",
    "s3 = boto3.client(\"s3\")\n",
    "remote_foler = 'AirbnbData/'\n",
    "folder = 'Chicago-Illinois-US'\n",
    "scraped_filename = remote_foler + folder + \"/ws_data/webscrapted.json\""
   ]
  },
  {
   "cell_type": "code",
   "execution_count": null,
   "metadata": {},
   "outputs": [],
   "source": [
    "response = s3.get_object(Bucket=bucket_name,\n",
    "                         Key=scraped_filename)\n",
    "apt_info = json.loads(response['Body'].read())\n",
    "\n",
    "print('Total number of apartments in ' + folder +\" is: {}\".format(len(apt_info)))\n"
   ]
  },
  {
   "cell_type": "code",
   "execution_count": null,
   "metadata": {},
   "outputs": [],
   "source": [
    "for k,v in wb_json.items():\n",
    "    image_list = v['image']\n",
    "    for i,img_url in enumerate(image_list):\n",
    "        print(i)\n",
    "        r = request.get(img_url,allow_redirects=True)\n",
    "        image = Image.open(BytesIO(r.content))\n",
    "        image_resized = image.resize((image.size[0]/2,image.size[1]/2))\n",
    "        filename = k +'_'+str(i)+'.jpg'\n",
    "        s3.put_object(Body=image_resized, Bucket=bucket_name, Key=filename)\n",
    "        "
   ]
  }
 ],
 "metadata": {
  "kernelspec": {
   "display_name": "Python 3",
   "language": "python",
   "name": "python3"
  },
  "language_info": {
   "codemirror_mode": {
    "name": "ipython",
    "version": 3
   },
   "file_extension": ".py",
   "mimetype": "text/x-python",
   "name": "python",
   "nbconvert_exporter": "python",
   "pygments_lexer": "ipython3",
   "version": "3.6.4"
  }
 },
 "nbformat": 4,
 "nbformat_minor": 2
}
