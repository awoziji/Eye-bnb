{
 "cells": [
  {
   "cell_type": "code",
   "execution_count": 13,
   "metadata": {},
   "outputs": [],
   "source": [
    "from PIL import Image\n",
    "from io import BytesIO\n",
    "import requests\n",
    "import boto3\n",
    "import time\n",
    "import random\n",
    "import json\n",
    "import os"
   ]
  },
  {
   "cell_type": "code",
   "execution_count": 7,
   "metadata": {},
   "outputs": [],
   "source": [
    "\n",
    "\n",
    "\n",
    "# bucket_name = \"chen-gal-test\"\n",
    "# s3 = boto3.client(\"s3\")\n",
    "# url = 'https://a0.muscache.com/4ea/air/v2//pictures/e8462648-be49-48f8-a394-70fb9c66f384.jpg?t=r:w2500-h1500-sfit,e:fjpg-c85'\n",
    "# r = requests.get(url, allow_redirects=True)\n",
    "# # open('shanghai.jpg', 'wb').write(r.content)\n",
    "\n",
    "# image = Image.open(BytesIO(r.content))\n",
    "\n",
    "# image_resized = image.resize((image.size[0]//2,image.size[1]//2))\n",
    "\n",
    "# filename = 'shanghai'\n",
    "# image_resized.save('shanghai.jpg')\n",
    "# # s3.put_object(Body=image_resized, Bucket=bucket_name, Key=filename)"
   ]
  },
  {
   "cell_type": "markdown",
   "metadata": {},
   "source": [
    "# Load in json file"
   ]
  },
  {
   "cell_type": "code",
   "execution_count": null,
   "metadata": {},
   "outputs": [],
   "source": [
    "bucket_name = \"chen-gal-test\"\n",
    "s3 = boto3.client(\"s3\")\n",
    "remote_foler = 'AirbnbData/'\n"
   ]
  },
  {
   "cell_type": "markdown",
   "metadata": {},
   "source": [
    "#### Choose the city by changing folder's name"
   ]
  },
  {
   "cell_type": "code",
   "execution_count": 9,
   "metadata": {},
   "outputs": [],
   "source": [
    "folder = 'Boston-Massachusetts-US'\n",
    "scraped_filename = remote_foler + folder + \"/ws_data/webscrapted.json\""
   ]
  },
  {
   "cell_type": "markdown",
   "metadata": {},
   "source": [
    "#### load in data from S3 bucket"
   ]
  },
  {
   "cell_type": "code",
   "execution_count": 10,
   "metadata": {},
   "outputs": [
    {
     "name": "stdout",
     "output_type": "stream",
     "text": [
      "Total number of apartments in Boston-Massachusetts-US is: 4869\n"
     ]
    }
   ],
   "source": [
    "response = s3.get_object(Bucket=bucket_name,\n",
    "                         Key=scraped_filename)\n",
    "apt_info = json.loads(response['Body'].read())\n",
    "\n",
    "print('Total number of apartments in ' + folder +\" is: {}\".format(len(apt_info)))\n"
   ]
  },
  {
   "cell_type": "markdown",
   "metadata": {},
   "source": [
    "#### Set log file name "
   ]
  },
  {
   "cell_type": "code",
   "execution_count": 11,
   "metadata": {},
   "outputs": [
    {
     "name": "stdout",
     "output_type": "stream",
     "text": [
      "Logfile name is Logs/logfile_image_Boston-Massachusetts-US.txt\n"
     ]
    }
   ],
   "source": [
    "logfile_name = 'Logs/'+'logfile_image_'+folder+'.txt'\n",
    "print(f'Logfile name is {logfile_name}')"
   ]
  },
  {
   "cell_type": "markdown",
   "metadata": {},
   "source": [
    "#### Create folder for image if it doesn't exist"
   ]
  },
  {
   "cell_type": "code",
   "execution_count": 14,
   "metadata": {},
   "outputs": [],
   "source": [
    "image_folder = 'image/'+folder+ '/'\n",
    "if not os.path.exists(image_folder):\n",
    "    os.makedirs(image_folder)"
   ]
  },
  {
   "cell_type": "code",
   "execution_count": null,
   "metadata": {},
   "outputs": [
    {
     "name": "stdout",
     "output_type": "stream",
     "text": [
      "Processing 1 apartment---------------------------------------------------\n",
      "Processing the image 13937181...\n",
      " Url: https://www.airbnb.com/rooms/13937181\n",
      "Processing 2 apartment---------------------------------------------------\n",
      "Processing the image 3575220...\n",
      " Url: https://www.airbnb.com/rooms/3575220\n"
     ]
    }
   ],
   "source": [
    "i = 0\n",
    "num_of_aps = len(apt_info.keys())\n",
    "\n",
    "for j in range(0,num_of_aps):\n",
    "        \n",
    "    k = list(apt_info.keys())[j]\n",
    "    v = apt_info[k]\n",
    "    with open(logfile_name,'a') as f:\n",
    "        f.write(f'---------------------\\nApartment{j} | {k}')\n",
    "    \n",
    "    if len(v['info']) == 0:\n",
    "        with open(logfile_name,'a') as f:\n",
    "                f.writelines('No image info for this apt \\n')\n",
    "        continue\n",
    "    print(f\"Processing {j} apartment---------------------------------------------------\")    \n",
    "    image_list = v['info']['photo_urls']\n",
    "    print(f\"Processing the image {k}...\")\n",
    "    print(f\" Url: {v['url']}\")\n",
    "    for i,img_url in enumerate(image_list):\n",
    "        \n",
    "        \n",
    "        r = requests.get(img_url,allow_redirects=True)\n",
    "        image = Image.open(BytesIO(r.content))\n",
    "        image_resized = image.resize((int(image.size[0]//1.5),int(image.size[1]//1.5)))\n",
    "#         io = BytesIO()\n",
    "        filename = 'image/'+folder+ '/'+ k +'_'+str(i)+'.jpg'\n",
    "        image_resized.save(filename)\n",
    "        \n",
    "        time.sleep(0.2+random.random())\n",
    "    \n",
    "    with open(logfile_name,'a') as f:\n",
    "                f.writelines(f'Download {i} images for the apt!\\n')\n",
    "        \n",
    "#         s3.put_object(Body=image_resized, Bucket=bucket_name, Key=filename,ContentType = 'bytearray')\n",
    "        "
   ]
  },
  {
   "cell_type": "code",
   "execution_count": 55,
   "metadata": {},
   "outputs": [
    {
     "ename": "TypeError",
     "evalue": "'NoneType' object is not callable",
     "output_type": "error",
     "traceback": [
      "\u001b[0;31m---------------------------------------------------------------------------\u001b[0m",
      "\u001b[0;31mTypeError\u001b[0m                                 Traceback (most recent call last)",
      "\u001b[0;32m<ipython-input-55-ffe15c0c41c8>\u001b[0m in \u001b[0;36m<module>\u001b[0;34m()\u001b[0m\n\u001b[0;32m----> 1\u001b[0;31m \u001b[0mz\u001b[0m \u001b[0;34m=\u001b[0m \u001b[0mimage_resized\u001b[0m\u001b[0;34m.\u001b[0m\u001b[0mformat\u001b[0m\u001b[0;34m(\u001b[0m\u001b[0;34m)\u001b[0m\u001b[0;34m\u001b[0m\u001b[0m\n\u001b[0m",
      "\u001b[0;31mTypeError\u001b[0m: 'NoneType' object is not callable"
     ]
    }
   ],
   "source": [
    "z = image_resized."
   ]
  },
  {
   "cell_type": "code",
   "execution_count": 54,
   "metadata": {},
   "outputs": [],
   "source": []
  },
  {
   "cell_type": "code",
   "execution_count": 16,
   "metadata": {},
   "outputs": [
    {
     "ename": "AttributeError",
     "evalue": "'dict' object has no attribute 'head'",
     "output_type": "error",
     "traceback": [
      "\u001b[0;31m---------------------------------------------------------------------------\u001b[0m",
      "\u001b[0;31mAttributeError\u001b[0m                            Traceback (most recent call last)",
      "\u001b[0;32m<ipython-input-16-9d8cfa1c42f8>\u001b[0m in \u001b[0;36m<module>\u001b[0;34m()\u001b[0m\n\u001b[0;32m----> 1\u001b[0;31m \u001b[0mapt_info\u001b[0m\u001b[0;34m.\u001b[0m\u001b[0mhead\u001b[0m\u001b[0;34m(\u001b[0m\u001b[0;34m)\u001b[0m\u001b[0;34m\u001b[0m\u001b[0m\n\u001b[0m",
      "\u001b[0;31mAttributeError\u001b[0m: 'dict' object has no attribute 'head'"
     ]
    }
   ],
   "source": [
    "apt_info.head()"
   ]
  },
  {
   "cell_type": "code",
   "execution_count": null,
   "metadata": {},
   "outputs": [],
   "source": []
  }
 ],
 "metadata": {
  "kernelspec": {
   "display_name": "Python 3",
   "language": "python",
   "name": "python3"
  },
  "language_info": {
   "codemirror_mode": {
    "name": "ipython",
    "version": 3
   },
   "file_extension": ".py",
   "mimetype": "text/x-python",
   "name": "python",
   "nbconvert_exporter": "python",
   "pygments_lexer": "ipython3",
   "version": "3.6.4"
  }
 },
 "nbformat": 4,
 "nbformat_minor": 2
}
