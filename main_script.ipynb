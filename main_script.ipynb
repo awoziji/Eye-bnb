{
 "cells": [
  {
   "cell_type": "code",
   "execution_count": 16,
   "metadata": {},
   "outputs": [],
   "source": [
    "import sys\n",
    "import json\n",
    "import requests\n",
    "import time\n",
    "import argparse\n",
    "import pandas as pd\n",
    "import numpy as np\n",
    "import pymongo\n",
    "\n",
    "import random\n",
    "\n",
    "import boto3\n",
    "import boto.s3.connection\n",
    "from boto.s3.key import Key\n",
    "from src.Airbnb_Scraping_tools import *\n",
    "from urllib.parse import urlparse\n",
    "from bs4 import BeautifulSoup\n",
    "from urllib.request import urlretrieve "
   ]
  },
  {
   "cell_type": "code",
   "execution_count": 17,
   "metadata": {},
   "outputs": [
    {
     "name": "stdout",
     "output_type": "stream",
     "text": [
      "The autoreload extension is already loaded. To reload it, use:\n",
      "  %reload_ext autoreload\n"
     ]
    }
   ],
   "source": [
    "%load_ext autoreload\n",
    "%autoreload 2"
   ]
  },
  {
   "cell_type": "markdown",
   "metadata": {},
   "source": [
    "# Load in data"
   ]
  },
  {
   "cell_type": "code",
   "execution_count": 18,
   "metadata": {},
   "outputs": [],
   "source": [
    "s3_path = 'https://s3-us-west-2.amazonaws.com/chen-gal-test/AirbnbData/'"
   ]
  },
  {
   "cell_type": "code",
   "execution_count": 19,
   "metadata": {},
   "outputs": [
    {
     "data": {
      "text/plain": [
       "'https://s3-us-west-2.amazonaws.com/chen-gal-test/AirbnbData/'"
      ]
     },
     "execution_count": 19,
     "metadata": {},
     "output_type": "execute_result"
    }
   ],
   "source": [
    "s3_path"
   ]
  },
  {
   "cell_type": "code",
   "execution_count": 20,
   "metadata": {},
   "outputs": [
    {
     "name": "stdout",
     "output_type": "stream",
     "text": [
      "Total number of apartments in Boston-Massachusetts-US is: 4870\n"
     ]
    },
    {
     "data": {
      "text/html": [
       "<div>\n",
       "<style scoped>\n",
       "    .dataframe tbody tr th:only-of-type {\n",
       "        vertical-align: middle;\n",
       "    }\n",
       "\n",
       "    .dataframe tbody tr th {\n",
       "        vertical-align: top;\n",
       "    }\n",
       "\n",
       "    .dataframe thead th {\n",
       "        text-align: right;\n",
       "    }\n",
       "</style>\n",
       "<table border=\"1\" class=\"dataframe\">\n",
       "  <thead>\n",
       "    <tr style=\"text-align: right;\">\n",
       "      <th></th>\n",
       "      <th>id</th>\n",
       "      <th>scrape_id</th>\n",
       "      <th>host_id</th>\n",
       "      <th>host_acceptance_rate</th>\n",
       "      <th>host_listings_count</th>\n",
       "      <th>host_total_listings_count</th>\n",
       "      <th>neighbourhood_group_cleansed</th>\n",
       "      <th>latitude</th>\n",
       "      <th>longitude</th>\n",
       "      <th>accommodates</th>\n",
       "      <th>...</th>\n",
       "      <th>review_scores_accuracy</th>\n",
       "      <th>review_scores_cleanliness</th>\n",
       "      <th>review_scores_checkin</th>\n",
       "      <th>review_scores_communication</th>\n",
       "      <th>review_scores_location</th>\n",
       "      <th>review_scores_value</th>\n",
       "      <th>license</th>\n",
       "      <th>jurisdiction_names</th>\n",
       "      <th>calculated_host_listings_count</th>\n",
       "      <th>reviews_per_month</th>\n",
       "    </tr>\n",
       "  </thead>\n",
       "  <tbody>\n",
       "    <tr>\n",
       "      <th>count</th>\n",
       "      <td>4.870000e+03</td>\n",
       "      <td>4.870000e+03</td>\n",
       "      <td>4.870000e+03</td>\n",
       "      <td>0.0</td>\n",
       "      <td>4870.000000</td>\n",
       "      <td>4870.000000</td>\n",
       "      <td>0.0</td>\n",
       "      <td>4870.000000</td>\n",
       "      <td>4870.000000</td>\n",
       "      <td>4870.000000</td>\n",
       "      <td>...</td>\n",
       "      <td>3936.000000</td>\n",
       "      <td>3941.000000</td>\n",
       "      <td>3928.000000</td>\n",
       "      <td>3940.000000</td>\n",
       "      <td>3927.000000</td>\n",
       "      <td>3927.000000</td>\n",
       "      <td>0.0</td>\n",
       "      <td>0.0</td>\n",
       "      <td>4870.000000</td>\n",
       "      <td>3986.000000</td>\n",
       "    </tr>\n",
       "    <tr>\n",
       "      <th>mean</th>\n",
       "      <td>1.293651e+07</td>\n",
       "      <td>2.017101e+13</td>\n",
       "      <td>4.088556e+07</td>\n",
       "      <td>NaN</td>\n",
       "      <td>78.667351</td>\n",
       "      <td>78.667351</td>\n",
       "      <td>NaN</td>\n",
       "      <td>42.339999</td>\n",
       "      <td>-71.083943</td>\n",
       "      <td>3.298152</td>\n",
       "      <td>...</td>\n",
       "      <td>9.588923</td>\n",
       "      <td>9.443035</td>\n",
       "      <td>9.742617</td>\n",
       "      <td>9.713706</td>\n",
       "      <td>9.487395</td>\n",
       "      <td>9.334861</td>\n",
       "      <td>NaN</td>\n",
       "      <td>NaN</td>\n",
       "      <td>19.301848</td>\n",
       "      <td>2.204792</td>\n",
       "    </tr>\n",
       "    <tr>\n",
       "      <th>std</th>\n",
       "      <td>6.202199e+06</td>\n",
       "      <td>5.000513e-01</td>\n",
       "      <td>3.971610e+07</td>\n",
       "      <td>NaN</td>\n",
       "      <td>219.284219</td>\n",
       "      <td>219.284219</td>\n",
       "      <td>NaN</td>\n",
       "      <td>0.025338</td>\n",
       "      <td>0.032768</td>\n",
       "      <td>2.131683</td>\n",
       "      <td>...</td>\n",
       "      <td>0.773592</td>\n",
       "      <td>0.957797</td>\n",
       "      <td>0.685026</td>\n",
       "      <td>0.722654</td>\n",
       "      <td>0.822990</td>\n",
       "      <td>0.890983</td>\n",
       "      <td>NaN</td>\n",
       "      <td>NaN</td>\n",
       "      <td>43.029043</td>\n",
       "      <td>2.336672</td>\n",
       "    </tr>\n",
       "    <tr>\n",
       "      <th>min</th>\n",
       "      <td>3.781000e+03</td>\n",
       "      <td>2.017101e+13</td>\n",
       "      <td>4.240000e+03</td>\n",
       "      <td>NaN</td>\n",
       "      <td>0.000000</td>\n",
       "      <td>0.000000</td>\n",
       "      <td>NaN</td>\n",
       "      <td>42.235760</td>\n",
       "      <td>-71.179257</td>\n",
       "      <td>1.000000</td>\n",
       "      <td>...</td>\n",
       "      <td>2.000000</td>\n",
       "      <td>2.000000</td>\n",
       "      <td>2.000000</td>\n",
       "      <td>2.000000</td>\n",
       "      <td>2.000000</td>\n",
       "      <td>2.000000</td>\n",
       "      <td>NaN</td>\n",
       "      <td>NaN</td>\n",
       "      <td>1.000000</td>\n",
       "      <td>0.020000</td>\n",
       "    </tr>\n",
       "    <tr>\n",
       "      <th>25%</th>\n",
       "      <td>7.913572e+06</td>\n",
       "      <td>2.017101e+13</td>\n",
       "      <td>1.011587e+07</td>\n",
       "      <td>NaN</td>\n",
       "      <td>1.000000</td>\n",
       "      <td>1.000000</td>\n",
       "      <td>NaN</td>\n",
       "      <td>42.329070</td>\n",
       "      <td>-71.105007</td>\n",
       "      <td>2.000000</td>\n",
       "      <td>...</td>\n",
       "      <td>9.000000</td>\n",
       "      <td>9.000000</td>\n",
       "      <td>10.000000</td>\n",
       "      <td>10.000000</td>\n",
       "      <td>9.000000</td>\n",
       "      <td>9.000000</td>\n",
       "      <td>NaN</td>\n",
       "      <td>NaN</td>\n",
       "      <td>1.000000</td>\n",
       "      <td>0.450000</td>\n",
       "    </tr>\n",
       "    <tr>\n",
       "      <th>50%</th>\n",
       "      <td>1.431376e+07</td>\n",
       "      <td>2.017101e+13</td>\n",
       "      <td>2.695608e+07</td>\n",
       "      <td>NaN</td>\n",
       "      <td>2.000000</td>\n",
       "      <td>2.000000</td>\n",
       "      <td>NaN</td>\n",
       "      <td>42.345512</td>\n",
       "      <td>-71.077124</td>\n",
       "      <td>2.000000</td>\n",
       "      <td>...</td>\n",
       "      <td>10.000000</td>\n",
       "      <td>10.000000</td>\n",
       "      <td>10.000000</td>\n",
       "      <td>10.000000</td>\n",
       "      <td>10.000000</td>\n",
       "      <td>9.000000</td>\n",
       "      <td>NaN</td>\n",
       "      <td>NaN</td>\n",
       "      <td>2.000000</td>\n",
       "      <td>1.300000</td>\n",
       "    </tr>\n",
       "    <tr>\n",
       "      <th>75%</th>\n",
       "      <td>1.857908e+07</td>\n",
       "      <td>2.017101e+13</td>\n",
       "      <td>6.297457e+07</td>\n",
       "      <td>NaN</td>\n",
       "      <td>11.000000</td>\n",
       "      <td>11.000000</td>\n",
       "      <td>NaN</td>\n",
       "      <td>42.356009</td>\n",
       "      <td>-71.061114</td>\n",
       "      <td>4.000000</td>\n",
       "      <td>...</td>\n",
       "      <td>10.000000</td>\n",
       "      <td>10.000000</td>\n",
       "      <td>10.000000</td>\n",
       "      <td>10.000000</td>\n",
       "      <td>10.000000</td>\n",
       "      <td>10.000000</td>\n",
       "      <td>NaN</td>\n",
       "      <td>NaN</td>\n",
       "      <td>9.000000</td>\n",
       "      <td>3.247500</td>\n",
       "    </tr>\n",
       "    <tr>\n",
       "      <th>max</th>\n",
       "      <td>2.123117e+07</td>\n",
       "      <td>2.017101e+13</td>\n",
       "      <td>1.533133e+08</td>\n",
       "      <td>NaN</td>\n",
       "      <td>982.000000</td>\n",
       "      <td>982.000000</td>\n",
       "      <td>NaN</td>\n",
       "      <td>42.396191</td>\n",
       "      <td>-70.985047</td>\n",
       "      <td>16.000000</td>\n",
       "      <td>...</td>\n",
       "      <td>10.000000</td>\n",
       "      <td>10.000000</td>\n",
       "      <td>10.000000</td>\n",
       "      <td>10.000000</td>\n",
       "      <td>10.000000</td>\n",
       "      <td>10.000000</td>\n",
       "      <td>NaN</td>\n",
       "      <td>NaN</td>\n",
       "      <td>181.000000</td>\n",
       "      <td>15.100000</td>\n",
       "    </tr>\n",
       "  </tbody>\n",
       "</table>\n",
       "<p>8 rows × 33 columns</p>\n",
       "</div>"
      ],
      "text/plain": [
       "                 id     scrape_id       host_id  host_acceptance_rate  \\\n",
       "count  4.870000e+03  4.870000e+03  4.870000e+03                   0.0   \n",
       "mean   1.293651e+07  2.017101e+13  4.088556e+07                   NaN   \n",
       "std    6.202199e+06  5.000513e-01  3.971610e+07                   NaN   \n",
       "min    3.781000e+03  2.017101e+13  4.240000e+03                   NaN   \n",
       "25%    7.913572e+06  2.017101e+13  1.011587e+07                   NaN   \n",
       "50%    1.431376e+07  2.017101e+13  2.695608e+07                   NaN   \n",
       "75%    1.857908e+07  2.017101e+13  6.297457e+07                   NaN   \n",
       "max    2.123117e+07  2.017101e+13  1.533133e+08                   NaN   \n",
       "\n",
       "       host_listings_count  host_total_listings_count  \\\n",
       "count          4870.000000                4870.000000   \n",
       "mean             78.667351                  78.667351   \n",
       "std             219.284219                 219.284219   \n",
       "min               0.000000                   0.000000   \n",
       "25%               1.000000                   1.000000   \n",
       "50%               2.000000                   2.000000   \n",
       "75%              11.000000                  11.000000   \n",
       "max             982.000000                 982.000000   \n",
       "\n",
       "       neighbourhood_group_cleansed     latitude    longitude  accommodates  \\\n",
       "count                           0.0  4870.000000  4870.000000   4870.000000   \n",
       "mean                            NaN    42.339999   -71.083943      3.298152   \n",
       "std                             NaN     0.025338     0.032768      2.131683   \n",
       "min                             NaN    42.235760   -71.179257      1.000000   \n",
       "25%                             NaN    42.329070   -71.105007      2.000000   \n",
       "50%                             NaN    42.345512   -71.077124      2.000000   \n",
       "75%                             NaN    42.356009   -71.061114      4.000000   \n",
       "max                             NaN    42.396191   -70.985047     16.000000   \n",
       "\n",
       "             ...          review_scores_accuracy  review_scores_cleanliness  \\\n",
       "count        ...                     3936.000000                3941.000000   \n",
       "mean         ...                        9.588923                   9.443035   \n",
       "std          ...                        0.773592                   0.957797   \n",
       "min          ...                        2.000000                   2.000000   \n",
       "25%          ...                        9.000000                   9.000000   \n",
       "50%          ...                       10.000000                  10.000000   \n",
       "75%          ...                       10.000000                  10.000000   \n",
       "max          ...                       10.000000                  10.000000   \n",
       "\n",
       "       review_scores_checkin  review_scores_communication  \\\n",
       "count            3928.000000                  3940.000000   \n",
       "mean                9.742617                     9.713706   \n",
       "std                 0.685026                     0.722654   \n",
       "min                 2.000000                     2.000000   \n",
       "25%                10.000000                    10.000000   \n",
       "50%                10.000000                    10.000000   \n",
       "75%                10.000000                    10.000000   \n",
       "max                10.000000                    10.000000   \n",
       "\n",
       "       review_scores_location  review_scores_value  license  \\\n",
       "count             3927.000000          3927.000000      0.0   \n",
       "mean                 9.487395             9.334861      NaN   \n",
       "std                  0.822990             0.890983      NaN   \n",
       "min                  2.000000             2.000000      NaN   \n",
       "25%                  9.000000             9.000000      NaN   \n",
       "50%                 10.000000             9.000000      NaN   \n",
       "75%                 10.000000            10.000000      NaN   \n",
       "max                 10.000000            10.000000      NaN   \n",
       "\n",
       "       jurisdiction_names  calculated_host_listings_count  reviews_per_month  \n",
       "count                 0.0                     4870.000000        3986.000000  \n",
       "mean                  NaN                       19.301848           2.204792  \n",
       "std                   NaN                       43.029043           2.336672  \n",
       "min                   NaN                        1.000000           0.020000  \n",
       "25%                   NaN                        1.000000           0.450000  \n",
       "50%                   NaN                        2.000000           1.300000  \n",
       "75%                   NaN                        9.000000           3.247500  \n",
       "max                   NaN                      181.000000          15.100000  \n",
       "\n",
       "[8 rows x 33 columns]"
      ]
     },
     "execution_count": 20,
     "metadata": {},
     "output_type": "execute_result"
    }
   ],
   "source": [
    "folder = 'Boston-Massachusetts-US'\n",
    "file_tmp = pd.read_csv(s3_path+folder+'/listings.csv.gz',compression = 'gzip')\n",
    "print('Total number of apartments in ' + folder +\" is: {}\".format(len(file_tmp)))\n",
    "file_tmp.describe()"
   ]
  },
  {
   "cell_type": "markdown",
   "metadata": {},
   "source": [
    "# Open S3 bucket"
   ]
  },
  {
   "cell_type": "code",
   "execution_count": 7,
   "metadata": {},
   "outputs": [],
   "source": [
    "bucket_name = \"chen-gal-test\""
   ]
  },
  {
   "cell_type": "code",
   "execution_count": 36,
   "metadata": {},
   "outputs": [],
   "source": [
    "s3 = boto3.client(\"s3\")\n",
    "\n",
    "remote_pathname_l1 = 'AirbnbData/'\n",
    "remote_pathname_l2 = folder\n",
    "remote_pathname = remote_pathname_l1 + remote_pathname_l2\n",
    "\n",
    "# s3.put_object(Body=file , Bucket=bucket_name, Key=remote_pathname)\n"
   ]
  },
  {
   "cell_type": "code",
   "execution_count": 50,
   "metadata": {},
   "outputs": [],
   "source": [
    "logfile_name = 'DataSet/'+'logfile_'+folder+'.txt'\n",
    "print(f'Logfile name is {logfile_name}')\n",
    "\n",
    "\n"
   ]
  },
  {
   "cell_type": "markdown",
   "metadata": {},
   "source": [
    "# Downloading"
   ]
  },
  {
   "cell_type": "code",
   "execution_count": null,
   "metadata": {},
   "outputs": [],
   "source": [
    "apt_infos = {}\n",
    "apt_jses = {}"
   ]
  },
  {
   "cell_type": "code",
   "execution_count": 52,
   "metadata": {},
   "outputs": [
    {
     "name": "stdout",
     "output_type": "stream",
     "text": [
      "0\n",
      "request_url:https://www.airbnb.com/rooms/20872145\n"
     ]
    }
   ],
   "source": [
    "# for i in range(len(file_tmp)):\n",
    "for i in range(1):\n",
    "    print(i)\n",
    "    url = file_tmp.loc[i,'listing_url']\n",
    "    apt_id = file_tmp.loc[i,'id']\n",
    "    apt_name = file_tmp.loc[i,'name']\n",
    "    with open(logfile_name,'w+') as f:\n",
    "        f.write(f'---------------------\\nApartment{i} | {apt_id} | {url} \\n')         \n",
    "    try:\n",
    "        return_parsed = parse_each_webpage(url)\n",
    "    except CannotOpenUrl:        \n",
    "        with open(logfile_name,'a') as f:\n",
    "            f.writelines('Cannot open '+ str(i)+ ' url.\\t' + 'Id: '+ str(apt_id) + ' |  Url: '+ url)                        \n",
    "        print('Failed to get access to URL, sleep for 20 secs ')\n",
    "        time.sleep(20)\n",
    "        return_parsed = parse_each_webpage(url)\n",
    "    finally:\n",
    "        scrape_info,ori_json = return_parsed[0],return_parsed[1]\n",
    "        if len(scrape_info) == 0:\n",
    "            with open(logfile_name,'a') as f:\n",
    "                f.writelines('Failed to scrape the url, simply save the json file\\n')\n",
    "        else:\n",
    "            with open(logfile_name,'a') as f:\n",
    "                f.writelines('Successfully scraped the url, save both files\\n')\n",
    "            \n",
    "        dict_apt = {'apt_name':apt_name,'url' : url, 'info': scrape_info}\n",
    "        apt_jses.update({str(apt_id):ori_json})\n",
    "        apt_infos.update({str(apt_id):dict_apt})\n",
    "        with open(logfile_name,'a') as f:\n",
    "                f.writelines(f'Finished scraping {i} apartment! ID:{apt_id}\\n')\n",
    "        if i % 100 == 0 and i != 0:\n",
    "            \n",
    "            js_filename = remote_pathname +\"/jsons/ori_json_\"+str(i)            \n",
    "            s3.put_object(Body=json.dump(apt_jses) , Bucket=bucket_name, Key=js_filename)\n",
    "            \n",
    "            print(\"Wrote  down\"+str(i)+\"json file\")\n",
    "            with open(logfile_name,'a') as f:\n",
    "                f.writelines(f'Saved json file {filename}!\\n')\n",
    "            \n",
    "            jses = {}\n",
    "        time.sleep(random.random()+2)\n",
    "        \n",
    "#upload log_file to s3\n",
    "logfile_s3_filename = remote_pathname+'/ws_data/log_file.txt'\n",
    "s3.upload_file(Bucket = bucket_name,Filename=logfile_name,Key=logfile_s3_filename)\n"
   ]
  },
  {
   "cell_type": "markdown",
   "metadata": {},
   "source": [
    "## Save the result"
   ]
  },
  {
   "cell_type": "markdown",
   "metadata": {},
   "source": [
    "### save scrapted data"
   ]
  },
  {
   "cell_type": "code",
   "execution_count": 58,
   "metadata": {},
   "outputs": [
    {
     "data": {
      "text/plain": [
       "{'ETag': '\"a365eb8605abed64c3037e75e4d3c608\"',\n",
       " 'ResponseMetadata': {'HTTPHeaders': {'content-length': '0',\n",
       "   'date': 'Mon, 30 Apr 2018 00:21:06 GMT',\n",
       "   'etag': '\"a365eb8605abed64c3037e75e4d3c608\"',\n",
       "   'server': 'AmazonS3',\n",
       "   'x-amz-id-2': 'T74AOyf6fSqedrpK+eJK4AKbVuFFBjU0o9/lq6NDWorDY3maz95ZP+XRPy8gxdiYILcy+g0cajU=',\n",
       "   'x-amz-request-id': '5C9A18202FFC0F15'},\n",
       "  'HTTPStatusCode': 200,\n",
       "  'HostId': 'T74AOyf6fSqedrpK+eJK4AKbVuFFBjU0o9/lq6NDWorDY3maz95ZP+XRPy8gxdiYILcy+g0cajU=',\n",
       "  'RequestId': '5C9A18202FFC0F15',\n",
       "  'RetryAttempts': 0}}"
      ]
     },
     "execution_count": 58,
     "metadata": {},
     "output_type": "execute_result"
    }
   ],
   "source": [
    "scraped_filename = remote_pathname +\"/ws_data/webscrapted.json\"\n",
    "\n",
    "s3.put_object(Body=json.dumps(apt_infos) , Bucket=bucket_name, Key=scraped_filename)"
   ]
  },
  {
   "cell_type": "markdown",
   "metadata": {},
   "source": [
    "### save json data"
   ]
  },
  {
   "cell_type": "code",
   "execution_count": 60,
   "metadata": {},
   "outputs": [
    {
     "data": {
      "text/plain": [
       "{'ETag': '\"da6952ffc3ef10a8a01d8eb35bbb70b3\"',\n",
       " 'ResponseMetadata': {'HTTPHeaders': {'content-length': '0',\n",
       "   'date': 'Mon, 30 Apr 2018 00:22:01 GMT',\n",
       "   'etag': '\"da6952ffc3ef10a8a01d8eb35bbb70b3\"',\n",
       "   'server': 'AmazonS3',\n",
       "   'x-amz-id-2': 'RM0h99zmfC0YbGI6pvpg16Iw3xTZe8eCz8etpLxALWVUDnYF11BNmOuH2BZObwYhUeCpqS6wBOM=',\n",
       "   'x-amz-request-id': '453D9101B5D3F13C'},\n",
       "  'HTTPStatusCode': 200,\n",
       "  'HostId': 'RM0h99zmfC0YbGI6pvpg16Iw3xTZe8eCz8etpLxALWVUDnYF11BNmOuH2BZObwYhUeCpqS6wBOM=',\n",
       "  'RequestId': '453D9101B5D3F13C',\n",
       "  'RetryAttempts': 0}}"
      ]
     },
     "execution_count": 60,
     "metadata": {},
     "output_type": "execute_result"
    }
   ],
   "source": [
    "last_piece_js_filename = remote_pathname+\"/ws_data/ori_json_lastpiece.json\"\n",
    "\n",
    "s3.put_object(Body=json.dumps(apt_jses) , Bucket=bucket_name, Key=last_piece_js_filename)\n"
   ]
  },
  {
   "cell_type": "markdown",
   "metadata": {},
   "source": [
    "## Load json data from s3"
   ]
  },
  {
   "cell_type": "code",
   "execution_count": 69,
   "metadata": {},
   "outputs": [],
   "source": [
    "response = s3.get_object(Bucket=bucket_name,\n",
    "                         Key=scraped_filename)"
   ]
  },
  {
   "cell_type": "code",
   "execution_count": 70,
   "metadata": {},
   "outputs": [],
   "source": [
    "scraped_data = json.loads(response['Body'].read())"
   ]
  },
  {
   "cell_type": "code",
   "execution_count": null,
   "metadata": {},
   "outputs": [],
   "source": []
  }
 ],
 "metadata": {
  "kernelspec": {
   "display_name": "Python 3",
   "language": "python",
   "name": "python3"
  },
  "language_info": {
   "codemirror_mode": {
    "name": "ipython",
    "version": 3
   },
   "file_extension": ".py",
   "mimetype": "text/x-python",
   "name": "python",
   "nbconvert_exporter": "python",
   "pygments_lexer": "ipython3",
   "version": "3.6.4"
  }
 },
 "nbformat": 4,
 "nbformat_minor": 2
}
