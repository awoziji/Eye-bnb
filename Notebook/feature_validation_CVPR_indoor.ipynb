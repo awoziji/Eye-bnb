{
 "cells": [
  {
   "cell_type": "code",
   "execution_count": 45,
   "metadata": {},
   "outputs": [],
   "source": [
    "from PIL import Image\n",
    "from io import BytesIO\n",
    "from boto3 import client\n",
    "import boto3\n",
    "import time\n",
    "import random\n",
    "import json\n",
    "import os\n",
    "import pandas as pd"
   ]
  },
  {
   "cell_type": "code",
   "execution_count": 15,
   "metadata": {},
   "outputs": [],
   "source": [
    "import image_process_tools"
   ]
  },
  {
   "cell_type": "code",
   "execution_count": 16,
   "metadata": {},
   "outputs": [],
   "source": [
    "bucket_name = \"chen-gal-test\"\n",
    "s3 = boto3.client(\"s3\")\n",
    "\n"
   ]
  },
  {
   "cell_type": "code",
   "execution_count": 36,
   "metadata": {},
   "outputs": [
    {
     "ename": "KeyError",
     "evalue": "'Contents'",
     "output_type": "error",
     "traceback": [
      "\u001b[0;31m---------------------------------------------------------------------------\u001b[0m",
      "\u001b[0;31mKeyError\u001b[0m                                  Traceback (most recent call last)",
      "\u001b[0;32m<ipython-input-36-4f4319ff25bf>\u001b[0m in \u001b[0;36m<module>\u001b[0;34m()\u001b[0m\n\u001b[1;32m      1\u001b[0m \u001b[0mconn\u001b[0m \u001b[0;34m=\u001b[0m \u001b[0mclient\u001b[0m\u001b[0;34m(\u001b[0m\u001b[0;34m's3'\u001b[0m\u001b[0;34m)\u001b[0m  \u001b[0;31m# again assumes boto.cfg setup, assume AWS S3\u001b[0m\u001b[0;34m\u001b[0m\u001b[0m\n\u001b[0;32m----> 2\u001b[0;31m \u001b[0;32mfor\u001b[0m \u001b[0mkey\u001b[0m \u001b[0;32min\u001b[0m \u001b[0mconn\u001b[0m\u001b[0;34m.\u001b[0m\u001b[0mlist_objects\u001b[0m\u001b[0;34m(\u001b[0m\u001b[0mBucket\u001b[0m\u001b[0;34m=\u001b[0m\u001b[0mbucket_name\u001b[0m\u001b[0;34m,\u001b[0m\u001b[0mPrefix\u001b[0m\u001b[0;34m=\u001b[0m\u001b[0;34m'CVPR_indoor_imageset/images'\u001b[0m\u001b[0;34m,\u001b[0m\u001b[0mDelimiter\u001b[0m \u001b[0;34m=\u001b[0m \u001b[0;34m'/'\u001b[0m\u001b[0;34m)\u001b[0m\u001b[0;34m[\u001b[0m\u001b[0;34m'Contents'\u001b[0m\u001b[0;34m]\u001b[0m\u001b[0;34m:\u001b[0m\u001b[0;34m\u001b[0m\u001b[0m\n\u001b[0m\u001b[1;32m      3\u001b[0m     \u001b[0mprint\u001b[0m\u001b[0;34m(\u001b[0m\u001b[0mkey\u001b[0m\u001b[0;34m[\u001b[0m\u001b[0;34m'Key'\u001b[0m\u001b[0;34m]\u001b[0m\u001b[0;34m)\u001b[0m\u001b[0;34m\u001b[0m\u001b[0m\n",
      "\u001b[0;31mKeyError\u001b[0m: 'Contents'"
     ]
    }
   ],
   "source": [
    "conn = client('s3')  # again assumes boto.cfg setup, assume AWS S3\n",
    "for key in conn.list_objects(Bucket=bucket_name,Prefix='CVPR_indoor_imageset/images',Delimiter = '/')['Contents']:\n",
    "    print(key['Key'])"
   ]
  },
  {
   "cell_type": "code",
   "execution_count": 31,
   "metadata": {},
   "outputs": [
    {
     "ename": "TypeError",
     "evalue": "string indices must be integers",
     "output_type": "error",
     "traceback": [
      "\u001b[0;31m---------------------------------------------------------------------------\u001b[0m",
      "\u001b[0;31mTypeError\u001b[0m                                 Traceback (most recent call last)",
      "\u001b[0;32m<ipython-input-31-40aa68c1f1b7>\u001b[0m in \u001b[0;36m<module>\u001b[0;34m()\u001b[0m\n\u001b[1;32m      1\u001b[0m \u001b[0;32mfor\u001b[0m \u001b[0mkey\u001b[0m \u001b[0;32min\u001b[0m \u001b[0mconn\u001b[0m\u001b[0;34m.\u001b[0m\u001b[0mlist_objects_v2\u001b[0m\u001b[0;34m(\u001b[0m\u001b[0mBucket\u001b[0m\u001b[0;34m=\u001b[0m\u001b[0mbucket_name\u001b[0m\u001b[0;34m,\u001b[0m\u001b[0mPrefix\u001b[0m\u001b[0;34m=\u001b[0m\u001b[0;34m'CVPR_indoor_imageset/images'\u001b[0m\u001b[0;34m,\u001b[0m\u001b[0mDelimiter\u001b[0m \u001b[0;34m=\u001b[0m \u001b[0;34m'/'\u001b[0m\u001b[0;34m)\u001b[0m\u001b[0;34m:\u001b[0m\u001b[0;34m\u001b[0m\u001b[0m\n\u001b[0;32m----> 2\u001b[0;31m     \u001b[0mprint\u001b[0m\u001b[0;34m(\u001b[0m\u001b[0mkey\u001b[0m\u001b[0;34m[\u001b[0m\u001b[0;34m'Key'\u001b[0m\u001b[0;34m]\u001b[0m\u001b[0;34m)\u001b[0m\u001b[0;34m\u001b[0m\u001b[0m\n\u001b[0m",
      "\u001b[0;31mTypeError\u001b[0m: string indices must be integers"
     ]
    }
   ],
   "source": [
    "for key in \n",
    "    print(key['Key'])"
   ]
  },
  {
   "cell_type": "code",
   "execution_count": 37,
   "metadata": {},
   "outputs": [
    {
     "data": {
      "text/plain": [
       "{'CommonPrefixes': [{'Prefix': 'CVPR_indoor_imageset/images/'}],\n",
       " 'Delimiter': '/',\n",
       " 'IsTruncated': False,\n",
       " 'KeyCount': 1,\n",
       " 'MaxKeys': 1000,\n",
       " 'Name': 'chen-gal-test',\n",
       " 'Prefix': 'CVPR_indoor_imageset/images',\n",
       " 'ResponseMetadata': {'HTTPHeaders': {'content-type': 'application/xml',\n",
       "   'date': 'Thu, 10 May 2018 00:05:18 GMT',\n",
       "   'server': 'AmazonS3',\n",
       "   'transfer-encoding': 'chunked',\n",
       "   'x-amz-bucket-region': 'us-west-2',\n",
       "   'x-amz-id-2': 'T18yfgkcCIs1Di6Ue4PyRffiKK0kYXSmTZFlbawivmUtQKQNp3KvXlt9NqyHatrmFxhafsEmzXQ=',\n",
       "   'x-amz-request-id': '9B685D47A7585535'},\n",
       "  'HTTPStatusCode': 200,\n",
       "  'HostId': 'T18yfgkcCIs1Di6Ue4PyRffiKK0kYXSmTZFlbawivmUtQKQNp3KvXlt9NqyHatrmFxhafsEmzXQ=',\n",
       "  'RequestId': '9B685D47A7585535',\n",
       "  'RetryAttempts': 0}}"
      ]
     },
     "execution_count": 37,
     "metadata": {},
     "output_type": "execute_result"
    }
   ],
   "source": [
    "conn.list_objects_v2(Bucket=bucket_name,Prefix='CVPR_indoor_imageset/images',Delimiter = '/')"
   ]
  },
  {
   "cell_type": "code",
   "execution_count": 46,
   "metadata": {},
   "outputs": [],
   "source": [
    "prefix = \"CVPR_indoor_imageset/images/\"\n",
    "s3 = boto3.resource('s3')\n",
    "bucket = s3.Bucket(name=bucket_name)\n",
    "FilesNotFound = True\n",
    "folders = []\n",
    "filenames = []\n",
    "full_filenames = []\n",
    "for obj in bucket.objects.filter(Prefix=prefix):\n",
    "    string = obj.key.split('/')\n",
    "    folders.append(string[-2])\n",
    "    filenames.append(string[-1])\n",
    "    full_filenames.append(obj.key)\n",
    "\n",
    "df_dict = {'class':folders,'images':filenames,'full_filename':full_filenames}\n",
    "image_df = pd.DataFrame(df_dict)\n",
    "    \n",
    "                  "
   ]
  },
  {
   "cell_type": "code",
   "execution_count": 48,
   "metadata": {},
   "outputs": [
    {
     "data": {
      "text/plain": [
       "array(['images', 'airport_inside', 'artstudio', 'auditorium', 'bakery',\n",
       "       'bar', 'bathroom', 'bedroom', 'bookstore', 'bowling', 'buffet',\n",
       "       'casino', 'children_room', 'church_inside', 'classroom',\n",
       "       'cloister', 'closet', 'clothingstore', 'computerroom',\n",
       "       'concert_hall', 'corridor', 'deli', 'dentaloffice', 'dining_room',\n",
       "       'fastfood_restaurant', 'florist', 'gameroom', 'garage',\n",
       "       'greenhouse', 'grocerystore'], dtype=object)"
      ]
     },
     "execution_count": 48,
     "metadata": {},
     "output_type": "execute_result"
    }
   ],
   "source": [
    "image_df['class'].unique()"
   ]
  },
  {
   "cell_type": "code",
   "execution_count": null,
   "metadata": {},
   "outputs": [],
   "source": []
  }
 ],
 "metadata": {
  "kernelspec": {
   "display_name": "Python 3",
   "language": "python",
   "name": "python3"
  },
  "language_info": {
   "codemirror_mode": {
    "name": "ipython",
    "version": 3
   },
   "file_extension": ".py",
   "mimetype": "text/x-python",
   "name": "python",
   "nbconvert_exporter": "python",
   "pygments_lexer": "ipython3",
   "version": "3.6.4"
  }
 },
 "nbformat": 4,
 "nbformat_minor": 2
}
